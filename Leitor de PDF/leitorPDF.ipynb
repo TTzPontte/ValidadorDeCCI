{
 "cells": [
  {
   "cell_type": "code",
   "execution_count": 39,
   "metadata": {},
   "outputs": [],
   "source": [
    "# importa as bibliotecas necessárias\n",
    "import PyPDF2\n",
    "import re\n",
    "import pandas as pd"
   ]
  },
  {
   "cell_type": "code",
   "execution_count": 3,
   "metadata": {},
   "outputs": [],
   "source": [
    "\n",
    "# Abre o arquivo pdf \n",
    "path = r'G:\\Drives compartilhados\\Pontte Crédito\\0_HOME EQUITY\\0_Analises\\FAUSTO MARTINS ROBOREDO\\KIT QI\\HE_Contrato_Fausto_vf.pdf'\n",
    "pdf_file = open(path, 'rb')\n"
   ]
  },
  {
   "cell_type": "code",
   "execution_count": 4,
   "metadata": {},
   "outputs": [],
   "source": [
    "#Faz a leitura usando a biblioteca\n",
    "read_pdf = PyPDF2.PdfFileReader(pdf_file)\n",
    "\n",
    "# pega o numero de páginas\n",
    "number_of_pages = read_pdf.getNumPages()\n",
    "\n",
    "#Extriar Texto Página 1 a 5\n",
    "text=''\n",
    "for i in range(0,4):\n",
    "    #Ler Página PDF\n",
    "    pageObj = read_pdf.getPage(i)\n",
    "    #Extrair Texto\n",
    "    text=text+pageObj.extractText()\n",
    "\n",
    "#Tratar Texto (Remover Quebra de Linhas)\n",
    "text = re.sub('\\r', '', text) \n",
    "text = re.sub('\\n', '', text)\n",
    "\n",
    "#Mostrar Texto Tratado\n",
    "#print(text)"
   ]
  },
  {
   "cell_type": "code",
   "execution_count": 22,
   "metadata": {},
   "outputs": [
    {
     "data": {
      "text/plain": [
       "377964.46"
      ]
     },
     "execution_count": 22,
     "metadata": {},
     "output_type": "execute_result"
    }
   ],
   "source": [
    "textoBruto = \"VALOR DO EMPRÉSTIMO: R$\"\n",
    "valorBruto = text.find(textoBruto,0)\n",
    "virgula = text.find(\",\",valorBruto)\n",
    "\n",
    "#Criar Intervalo de Extração\n",
    "inicioBruto = len(textoBruto) + valorBruto # <-- Paga o Intervalo que Inicia os números do valor bruto.\n",
    "finalBruto = virgula+3 # +3 <-- Para incluir virgula + 2 casas decimais, pegando o final do valor bruto.\n",
    "\n",
    "#Extrair Conteúdo\n",
    "valorBruto = text[inicioBruto:finalBruto]\n",
    "float(valorBruto.replace(\".\",\"\").replace(\",\",\".\"))\n"
   ]
  },
  {
   "cell_type": "code",
   "execution_count": 127,
   "metadata": {},
   "outputs": [
    {
     "data": {
      "text/html": [
       "<div>\n",
       "<style scoped>\n",
       "    .dataframe tbody tr th:only-of-type {\n",
       "        vertical-align: middle;\n",
       "    }\n",
       "\n",
       "    .dataframe tbody tr th {\n",
       "        vertical-align: top;\n",
       "    }\n",
       "\n",
       "    .dataframe thead th {\n",
       "        text-align: right;\n",
       "    }\n",
       "</style>\n",
       "<table border=\"1\" class=\"dataframe\">\n",
       "  <thead>\n",
       "    <tr style=\"text-align: right;\">\n",
       "      <th></th>\n",
       "      <th>valorTotal</th>\n",
       "      <th>tabela</th>\n",
       "      <th>iofCorrigido</th>\n",
       "      <th>tag</th>\n",
       "      <th>registro</th>\n",
       "      <th>valorLiquido</th>\n",
       "      <th>prazoMes</th>\n",
       "      <th>taxa</th>\n",
       "      <th>primeiraParcela</th>\n",
       "      <th>valorImóvel</th>\n",
       "      <th>cet</th>\n",
       "      <th>prazoContrato</th>\n",
       "      <th>ultimaParcela</th>\n",
       "      <th>dataContrato</th>\n",
       "      <th>carencia</th>\n",
       "      <th>diaPagto</th>\n",
       "    </tr>\n",
       "  </thead>\n",
       "  <tbody>\n",
       "    <tr>\n",
       "      <th>0</th>\n",
       "      <td>377964.46</td>\n",
       "      <td>SAC</td>\n",
       "      <td>12640.27</td>\n",
       "      <td>12250.00</td>\n",
       "      <td>3074.19</td>\n",
       "      <td>350000.00</td>\n",
       "      <td>228</td>\n",
       "      <td>0.1255</td>\n",
       "      <td>5675.21</td>\n",
       "      <td>62000.00</td>\n",
       "      <td>0.1497</td>\n",
       "      <td>224</td>\n",
       "      <td>15/07/2040</td>\n",
       "      <td>06/07/2021</td>\n",
       "      <td>3.0</td>\n",
       "      <td>15</td>\n",
       "    </tr>\n",
       "  </tbody>\n",
       "</table>\n",
       "</div>"
      ],
      "text/plain": [
       "  valorTotal tabela iofCorrigido       tag registro valorLiquido prazoMes  \\\n",
       "0  377964.46    SAC     12640.27  12250.00  3074.19    350000.00      228   \n",
       "\n",
       "     taxa primeiraParcela valorImóvel     cet prazoContrato ultimaParcela  \\\n",
       "0  0.1255         5675.21    62000.00  0.1497           224    15/07/2040   \n",
       "\n",
       "  dataContrato  carencia  diaPagto  \n",
       "0   06/07/2021       3.0        15  "
      ]
     },
     "execution_count": 127,
     "metadata": {},
     "output_type": "execute_result"
    }
   ],
   "source": [
    "listaDePara = {'valorTotal':'VALOR DO EMPRÉSTIMO: R$','tabela': 'SISTEMA DE AMORTIZAÇÃO:','iofCorrigido': 'IOF: R$',\n",
    "                'tag': 'TARIFA DE ANÁLISE DE GARANTIAS: R$','registro': 'DESPESAS DE REGISTRO: R$',\n",
    "                'valorLiquido': 'VALOR LÍQUIDO DO EMPRÉSTIMO (A-J-K-L-M-N): R$','prazoMes': 'PRAZO DE AMORTIZAÇÃO:',\n",
    "                'taxa': 'H.1. NOMINAL:', 'primeiraParcela':'VALOR DA PARCELA MENSAL (AMORTIZAÇÃO E JUROS), NESTA DATA: R$',\n",
    "                'valorImóvel':'LEILÃO PÚBLICO   IMÓVEL: R$ ','cet':'CUSTO EFETIVO TOTAL (CET):','prazoContrato': 'N.º DE PRESTAÇÕES:',\n",
    "                'ultimaParcela':'DATA DO TÉRMINO DO PRAZO CONTRATUAL:',\n",
    "                'dataContrato': 'DATA DE DESEMBOLSO:'\n",
    "                }\n",
    "\n",
    "#len(listaHE) # <--- Qtd de Itens na Lista\n",
    "listaKey = []\n",
    "listaValues = []\n",
    "\n",
    "for key, value in listaDePara.items():\n",
    "    inicioFrase = text.find(value,0)\n",
    "    finalFrase = inicioFrase + len(value) + 1\n",
    "    proximoEspaco = text.find(\" \", finalFrase)\n",
    "    valorExtraido = text[finalFrase:proximoEspaco]\n",
    "\n",
    "    #Ajustar Valores Númericos\n",
    "    if '.' in valorExtraido:\n",
    "        valorExtraido = valorExtraido.replace(\".\", \"\")\n",
    "        valorExtraido = valorExtraido.replace(\",\", \".\")\n",
    "    \n",
    "    #Ajustar Valores Percentuais\n",
    "    if '%' in valorExtraido:\n",
    "        valorExtraido = valorExtraido.replace(\",\", \".\")\n",
    "        valorExtraido = valorExtraido.replace(\"%\", \"\")\n",
    "        valorExtraido = round(float(valorExtraido)/100,4)\n",
    "    \n",
    "    listaKey.append(key)\n",
    "    listaValues.append(valorExtraido)\n",
    "\n",
    "    #print(key + \": \", valorExtraido)\n",
    "\n",
    "#Criar Dicionario das duas Listas\n",
    "dict_keyValue = dict(zip(listaKey,listaValues))\n",
    "\n",
    "#Criar DF a partir do Dicionario\n",
    "df = pd.DataFrame([dict_keyValue])\n",
    "\n",
    "#Criar Colunas Dos Campos que estão faltando\n",
    "df.insert(len(listaKey),\"carencia\", [''])\n",
    "df.insert(len(listaKey)+1,\"diaPagto\", [''])\n",
    "\n",
    "#Inserir Valores Nas Colunas\n",
    "df['carencia'] = df['prazoMes'].astype(float) - df['prazoContrato'].astype(float) -1\n",
    "df['diaPagto'] = pd.DatetimeIndex(df['ultimaParcela']).day\n",
    "\n",
    "df\n"
   ]
  },
  {
   "cell_type": "code",
   "execution_count": 165,
   "metadata": {},
   "outputs": [
    {
     "data": {
      "text/plain": [
       "'G:\\\\drives compartilhados\\\\pontte\\\\operações\\\\automações\\\\projetos testes\\\\code de validação test'"
      ]
     },
     "execution_count": 165,
     "metadata": {},
     "output_type": "execute_result"
    }
   ],
   "source": [
    "import sys\n",
    "import os\n",
    "\n",
    "file_name = os.path.basename(sys.path[0])\n",
    "pathBruto = sys.path[0]\n",
    "\n",
    "posicaoFinal = len(pathBruto) - len(file_name) - 1\n",
    "\n",
    "pathTratado = (pathBruto[0:posicaoFinal]).capitalize()\n",
    "pathTratado\n"
   ]
  },
  {
   "cell_type": "code",
   "execution_count": 205,
   "metadata": {},
   "outputs": [
    {
     "name": "stdout",
     "output_type": "stream",
     "text": [
      "Caminho da planilha: G:\\drives compartilhados\\pontte\\operações\\automações\\projetos testes\\code de validação test\\Cálculo_fluxo.xlsx\n",
      "\n",
      "Caminho do PDF: G:\\drives compartilhados\\pontte\\operações\\automações\\projetos testes\\code de validação test\\Leitor de PDF\\HE_Contrato_Fausto_vf.pdf\n"
     ]
    }
   ],
   "source": [
    "#Lógica para localizar arquivo na pasta .PDF <--- Contrato\n",
    "\n",
    "#Função Que Acha Arquivo\n",
    "def caminhoArquivo(pathProcurar, palavra1, palavra2, extensao):\n",
    "    for root, dirs, files in os.walk(pathProcurar):\n",
    "        for file in files:\n",
    "            if palavra1 in file or palavra2 in file:\n",
    "                if extensao in file:\n",
    "                    pathArquivo = os.path.join(root, file)\n",
    "                    return pathArquivo\n",
    "\n",
    "\n",
    "#Palavras Chaves\n",
    "palavraChave1 = 'Contrato'\n",
    "palavraChave2 = 'contrato'\n",
    "palavraChave3 = 'Cálculo'\n",
    "palavraChave4 = 'Calculo'\n",
    "\n",
    "#Extensão do Arquvo\n",
    "xlsx = '.xlsx'\n",
    "pdf = '.pdf'\n",
    "\n",
    "arquivoPDF = caminhoArquivo(pathTratado, palavraChave1, palavraChave2, pdf)\n",
    "arquivoXLSX = caminhoArquivo(pathTratado, palavraChave3, palavraChave4, xlsx)\n",
    "\n",
    "\n",
    "print(\"Caminho da planilha:\", arquivoXLSX)\n",
    "print(\"\\nCaminho do PDF:\", arquivoPDF)"
   ]
  }
 ],
 "metadata": {
  "interpreter": {
   "hash": "e1c093565b6396d3fdf73d3d4553a2cf84682664cc9cc34ffc9a433d76b1cc31"
  },
  "kernelspec": {
   "display_name": "Python 3.9.1 64-bit",
   "language": "python",
   "name": "python3"
  },
  "language_info": {
   "codemirror_mode": {
    "name": "ipython",
    "version": 3
   },
   "file_extension": ".py",
   "mimetype": "text/x-python",
   "name": "python",
   "nbconvert_exporter": "python",
   "pygments_lexer": "ipython3",
   "version": "3.9.1"
  },
  "orig_nbformat": 4
 },
 "nbformat": 4,
 "nbformat_minor": 2
}
