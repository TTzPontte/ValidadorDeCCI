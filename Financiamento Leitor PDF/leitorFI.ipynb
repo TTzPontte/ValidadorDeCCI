{
 "cells": [
  {
   "cell_type": "code",
   "execution_count": 71,
   "metadata": {},
   "outputs": [],
   "source": [
    "import PyPDF2\n",
    "import re"
   ]
  },
  {
   "cell_type": "code",
   "execution_count": 72,
   "metadata": {},
   "outputs": [],
   "source": [
    "#path = r'G:\\Drives compartilhados\\Pontte\\Operações\\Automações\\Projetos TESTES\\Code de validação test\\Financiamento Leitor PDF\\Contratos FI\\FI_ContratoFGTS_Genilson Sofia de FranÃ§a_Assinatura Digital.pdf'\n",
    "#path = r'G:\\Drives compartilhados\\Pontte\\Operações\\Automações\\Projetos TESTES\\Code de validação test\\Financiamento Leitor PDF\\Contratos FI\\FI_Contrato_Shaoqiao Lin_Assinatura Digital_PDFA.pdf'\n",
    "path = r'G:\\Drives compartilhados\\Pontte\\Operações\\Automações\\Projetos TESTES\\Code de validação test\\Financiamento Leitor PDF\\Contratos FI\\FI_Contrato_Rangel_Assinatura Digital.pdf'\n",
    "#path = r'G:\\Drives compartilhados\\Pontte\\Operações\\Automações\\Projetos TESTES\\Code de validação test\\Financiamento Leitor PDF\\Contratos FI\\FI_Contrato_JoseLuis_Assinatura Digital.pdf'\n",
    "\n",
    "pdf_file = open(path, 'rb')"
   ]
  },
  {
   "cell_type": "code",
   "execution_count": 78,
   "metadata": {},
   "outputs": [],
   "source": [
    "#Faz a leitura usando a biblioteca\n",
    "read_pdf = PyPDF2.PdfFileReader(pdf_file)\n",
    "\n",
    "# pega o numero de páginas\n",
    "number_of_pages = read_pdf.getNumPages()\n",
    "\n",
    "#Extriar Texto Página 1 a 5\n",
    "text=''\n",
    "\n",
    "for i in range(0,5):\n",
    "    #Ler Página PDF\n",
    "    pageObj = read_pdf.getPage(i)\n",
    "    #Extrair Texto\n",
    "    text=text+pageObj.extractText()\n",
    "\n",
    "#Tratar Texto (Remover Quebra de Linhas)\n",
    "text = re.sub('\\r', '', text) \n",
    "text = re.sub('\\n', '', text)\n",
    "text = re.sub('\\s+', ' ', text)\n",
    "\n",
    "#text"
   ]
  },
  {
   "cell_type": "code",
   "execution_count": 74,
   "metadata": {},
   "outputs": [
    {
     "data": {
      "text/plain": [
       "'4.1. Análise de Garantia: R$ 13.513,50 [X] Incluída no Financiamento 4.2. Tarifa de Avaliação do Imóvel: R$ 0,00 [ ] Incluída no Financiamento 4.3. Despesas de Registro (estimado): R$ 15.834,00 [ ] Incluída no Financiamento 4.4. ITBI: R$ 16.800,00 [ ] Incluída no Financiamento 4.5. Custos de e-CPF: R$ 966,00 [X] Incluída no Financiamento'"
      ]
     },
     "execution_count": 74,
     "metadata": {},
     "output_type": "execute_result"
    }
   ],
   "source": [
    "#Definir Variáveis Auxiliares\n",
    "topico4 = '4. Despesas'\n",
    "topico5 = '5. Valor Destinado'\n",
    "\n",
    "#Pegar posição das variáveis auxiliares no texto\n",
    "inicioTopico = text.find(topico4, 0)\n",
    "finalTopico = text.find(topico5, 0)\n",
    "\n",
    "#Criar Paragráfo Auxiliar (Somente com os sub itens do tópico 4. Despesas)\n",
    "paragrafo4 = text[inicioTopico+len(topico4)+1:finalTopico-1]\n",
    "paragrafo4 = re.sub('\\s+',' ', paragrafo4)\n",
    "paragrafo4\n"
   ]
  },
  {
   "cell_type": "code",
   "execution_count": 76,
   "metadata": {},
   "outputs": [
    {
     "data": {
      "text/plain": [
       "{'4.1.': '13.513,50',\n",
       " '4.2.': '0,00',\n",
       " '4.3.': '0,00',\n",
       " '4.4.': '0,00',\n",
       " '4.5.': '966,00'}"
      ]
     },
     "execution_count": 76,
     "metadata": {},
     "output_type": "execute_result"
    }
   ],
   "source": [
    "listaChave = ['4.1.', '4.2.','4.3.','4.4.', '4.5.']\n",
    "inicioItens = []\n",
    "\n",
    "for item in listaChave:\n",
    "    inicioP = paragrafo4.find(item,0)\n",
    "    inicioItens.append(inicioP)\n",
    "    \n",
    "item1 = paragrafo4[inicioItens[0]:inicioItens[1]-1]\n",
    "item2 = paragrafo4[inicioItens[1]:inicioItens[2]-1]\n",
    "item3 = paragrafo4[inicioItens[2]:inicioItens[3]-1]\n",
    "try:\n",
    "    item4 = paragrafo4[inicioItens[3]:inicioItens[4]-1]\n",
    "except:\n",
    "    item4 = paragrafo4[inicioItens[3]:len(paragrafo4)]\n",
    "try:\n",
    "    item5 = paragrafo4[inicioItens[4]:len(paragrafo4)]\n",
    "except:\n",
    "    item5 = \"N/A\"\n",
    "\n",
    "listaFinal = [item1, item2, item3, item4, item5]\n",
    "\n",
    "listaValor = []\n",
    "\n",
    "for itemAux in listaFinal:\n",
    "    if '[X]' in itemAux:\n",
    "        inicioAux = itemAux.find('R$ ', 0)\n",
    "        fimAux = itemAux.find(\",\", inicioAux) + 3\n",
    "        resultadoAux = itemAux[inicioAux+3:fimAux]\n",
    "    else:\n",
    "        resultadoAux = '0,00'\n",
    "\n",
    "    listaValor.append(resultadoAux)\n",
    "\n",
    "#Criar Dicionario das duas Listas\n",
    "dict_chaveValor = dict(zip(listaChave,listaValor))\n",
    "\n",
    "dict_chaveValor"
   ]
  }
 ],
 "metadata": {
  "interpreter": {
   "hash": "e1c093565b6396d3fdf73d3d4553a2cf84682664cc9cc34ffc9a433d76b1cc31"
  },
  "kernelspec": {
   "display_name": "Python 3.9.1 64-bit",
   "language": "python",
   "name": "python3"
  },
  "language_info": {
   "codemirror_mode": {
    "name": "ipython",
    "version": 3
   },
   "file_extension": ".py",
   "mimetype": "text/x-python",
   "name": "python",
   "nbconvert_exporter": "python",
   "pygments_lexer": "ipython3",
   "version": "3.9.1"
  },
  "orig_nbformat": 4
 },
 "nbformat": 4,
 "nbformat_minor": 2
}
